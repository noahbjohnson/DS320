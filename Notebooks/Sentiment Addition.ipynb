{
 "cells": [
  {
   "cell_type": "markdown",
   "metadata": {},
   "source": [
    "# DS320 Final Project\n",
    "## Data Cleaning and Sentiment/Tag Addition Notebook\n",
    "### Noah B Johnson"
   ]
  },
  {
   "cell_type": "markdown",
   "metadata": {},
   "source": [
    "## Import Modules"
   ]
  },
  {
   "cell_type": "code",
   "execution_count": 2,
   "metadata": {},
   "outputs": [],
   "source": [
    "import requests\n",
    "from bs4 import BeautifulSoup\n",
    "import pandas as pd\n",
    "import numpy as np\n",
    "import urllib3\n",
    "import random\n",
    "import time\n",
    "import json\n",
    "from tinydb import TinyDB, Query\n",
    "import unicodedata\n",
    "from textblob import TextBlob\n",
    "import indicoio\n",
    "indicoio.config.api_key = ''"
   ]
  },
  {
   "cell_type": "markdown",
   "metadata": {},
   "source": [
    "## Configure Environment"
   ]
  },
  {
   "cell_type": "code",
   "execution_count": 3,
   "metadata": {},
   "outputs": [],
   "source": [
    "# setup json file for tinydb\n",
    "db = TinyDB('db-backup1.json')"
   ]
  },
  {
   "cell_type": "markdown",
   "metadata": {},
   "source": [
    "## Load from db"
   ]
  },
  {
   "cell_type": "code",
   "execution_count": 4,
   "metadata": {},
   "outputs": [],
   "source": [
    "# loads the database into a dataframe\n",
    "df = pd.DataFrame(db.all())"
   ]
  },
  {
   "cell_type": "markdown",
   "metadata": {},
   "source": [
    "## Basic Cleaning"
   ]
  },
  {
   "cell_type": "code",
   "execution_count": 44,
   "metadata": {},
   "outputs": [],
   "source": [
    "cleanBody = []\n",
    "for line in df.body:\n",
    "    # Normalize unicode characters\n",
    "    noUnicode = unicodedata.normalize('NFKD', line).encode('ascii', 'ignore').decode()\n",
    "    # Replace newlines and tabs with spaces and srip trailing whitespace\n",
    "    noWhitespace = noUnicode.replace(\"\\n\",\" \").replace(\"\\t\",\" \").strip()\n",
    "    cleanBody.append(noWhitespace)\n",
    "df.body = cleanBody"
   ]
  },
  {
   "cell_type": "code",
   "execution_count": 45,
   "metadata": {},
   "outputs": [],
   "source": [
    "# remove \"-guest author\" tag from author column\n",
    "df.author = df.author.str.replace(\" -- Guest Contributor\",\"\")\n",
    "df.author = df.author.str.replace(\" - Guest Contributor\",\"\")"
   ]
  },
  {
   "cell_type": "markdown",
   "metadata": {},
   "source": [
    "## Data Type Assignment"
   ]
  },
  {
   "cell_type": "code",
   "execution_count": 46,
   "metadata": {},
   "outputs": [
    {
     "data": {
      "text/plain": [
       "object    6\n",
       "dtype: int64"
      ]
     },
     "execution_count": 46,
     "metadata": {},
     "output_type": "execute_result"
    }
   ],
   "source": [
    "# all of the columns are just the 'object' data type probably read as stings\n",
    "# This needs to be corrected for full functionality\n",
    "df.get_dtype_counts()"
   ]
  },
  {
   "cell_type": "code",
   "execution_count": 37,
   "metadata": {},
   "outputs": [
    {
     "data": {
      "text/plain": [
       "datetime64[ns]     1\n",
       "float64           25\n",
       "int64              4\n",
       "object            10\n",
       "dtype: int64"
      ]
     },
     "execution_count": 37,
     "metadata": {},
     "output_type": "execute_result"
    }
   ],
   "source": [
    "# make the time column a datetime object\n",
    "df.time = pd.to_datetime(df.time)\n",
    "df.get_dtype_counts()"
   ]
  },
  {
   "cell_type": "code",
   "execution_count": 38,
   "metadata": {},
   "outputs": [
    {
     "data": {
      "text/plain": [
       "datetime64[ns]     1\n",
       "float64           25\n",
       "int64              4\n",
       "object             9\n",
       "category           1\n",
       "dtype: int64"
      ]
     },
     "execution_count": 38,
     "metadata": {},
     "output_type": "execute_result"
    }
   ],
   "source": [
    "# make news site a categorical variable\n",
    "df.site = df.site.astype('category')\n",
    "df.get_dtype_counts()"
   ]
  },
  {
   "cell_type": "code",
   "execution_count": 39,
   "metadata": {},
   "outputs": [
    {
     "data": {
      "text/plain": [
       "category           2\n",
       "datetime64[ns]     1\n",
       "float64           25\n",
       "int64              4\n",
       "object             8\n",
       "dtype: int64"
      ]
     },
     "execution_count": 39,
     "metadata": {},
     "output_type": "execute_result"
    }
   ],
   "source": [
    "# make author a categorical variable\n",
    "df.author = df.author.astype('category')\n",
    "df.get_dtype_counts()"
   ]
  },
  {
   "cell_type": "markdown",
   "metadata": {},
   "source": [
    "## Metadata Construction"
   ]
  },
  {
   "cell_type": "code",
   "execution_count": 40,
   "metadata": {},
   "outputs": [],
   "source": [
    "# Create a title length column\n",
    "df['titleLength'] = df.title.str.len()"
   ]
  },
  {
   "cell_type": "code",
   "execution_count": 41,
   "metadata": {},
   "outputs": [],
   "source": [
    "# Create a body length column\n",
    "df['bodyLength'] = df.body.str.len()"
   ]
  },
  {
   "cell_type": "markdown",
   "metadata": {},
   "source": [
    "## TextBlob Basic Sentiment\n",
    "> Not expected to be used much, more of a baseline comparison"
   ]
  },
  {
   "cell_type": "code",
   "execution_count": 52,
   "metadata": {},
   "outputs": [],
   "source": [
    "tb_BodyPolarity = []\n",
    "tb_BodySubjectivity = []\n",
    "tb_TitlePolarity = []\n",
    "tb_TitleSubjectivity = []\n",
    "\n",
    "for line in range(len(df)):\n",
    "    body = TextBlob(df.body.values[line]).sentiment\n",
    "    title = TextBlob(df.title.values[line]).sentiment\n",
    "    tb_BodyPolarity.append(body.polarity)\n",
    "    tb_TitlePolarity.append(title.polarity)\n",
    "    tb_BodySubjectivity.append(body.subjectivity)\n",
    "    tb_TitleSubjectivity.append(title.subjectivity)"
   ]
  },
  {
   "cell_type": "code",
   "execution_count": 53,
   "metadata": {},
   "outputs": [],
   "source": [
    "df['tb_BodyPolarity'] = tb_BodyPolarity\n",
    "df['tb_BodySubjectivity'] = tb_BodySubjectivity\n",
    "df['tb_TitlePolarity'] = tb_TitlePolarity\n",
    "df['tb_TitleSubjectivity'] = tb_TitleSubjectivity"
   ]
  },
  {
   "cell_type": "markdown",
   "metadata": {},
   "source": [
    "## Indico.io Sentiment"
   ]
  },
  {
   "cell_type": "code",
   "execution_count": 87,
   "metadata": {},
   "outputs": [],
   "source": [
    "# Get the sentiment of every title and write each one to a file to prevent failure\n",
    "\n",
    "indico_titleSentiment = open('indico.txt','w')\n",
    "working_list = []\n",
    "for line in range(len(df)):\n",
    "    working_list.append(df.title.values[line])\n",
    "    if len(working_list) > 69:\n",
    "        print(str(line))\n",
    "        for l in indicoio.sentiment(working_list):\n",
    "            indico_titleSentiment.write(str(l) + \"\\n\")\n",
    "            working_list = []\n",
    "for l in indicoio.sentiment(working_list):\n",
    "    indico_titleSentiment.write(str(l) + \"\\n\")\n",
    "    print(str(line), str(l))\n",
    "    working_list = []"
   ]
  },
  {
   "cell_type": "code",
   "execution_count": 92,
   "metadata": {},
   "outputs": [],
   "source": [
    "# add to dataframe\n",
    "f = open('indico.txt','r')\n",
    "df['indico_TitleSentiment'] = f.readlines()\n",
    "df['indico_TitleSentiment'] = df['indico_TitleSentiment'].str.replace(\"\\n\",\"\")\n",
    "df['indico_TitleSentiment'] = df['indico_TitleSentiment'].astype(float)"
   ]
  },
  {
   "cell_type": "code",
   "execution_count": 113,
   "metadata": {},
   "outputs": [],
   "source": [
    "# Get the sentiment of every body\n",
    "\n",
    "indico_bodySentiment = []\n",
    "working_list = []\n",
    "for line in range(len(df)):\n",
    "    working_list.append(df.body.values[line])\n",
    "    if len(working_list) > 29:\n",
    "        print(str(line))\n",
    "        for l in indicoio.sentiment(working_list):\n",
    "            indico_bodySentiment.append(l)\n",
    "            working_list = []\n",
    "print(str(line))\n",
    "for l in indicoio.sentiment(working_list):\n",
    "    indico_bodySentiment.append(l)\n",
    "    working_list = []"
   ]
  },
  {
   "cell_type": "code",
   "execution_count": 114,
   "metadata": {},
   "outputs": [],
   "source": [
    "# add to dataframe\n",
    "df['indico_BodySentiment'] = indico_bodySentiment\n",
    "df['indico_BodySentiment'] = df['indico_BodySentiment'].astype(float)"
   ]
  },
  {
   "cell_type": "code",
   "execution_count": 123,
   "metadata": {},
   "outputs": [],
   "source": [
    "df.to_csv(\"indico_backup.csv\")"
   ]
  },
  {
   "cell_type": "markdown",
   "metadata": {},
   "source": [
    "## Indico Political Lean"
   ]
  },
  {
   "cell_type": "code",
   "execution_count": 142,
   "metadata": {},
   "outputs": [],
   "source": [
    "# Get the lean of every title\n",
    "\n",
    "indico_titleLean = []\n",
    "working_list = []\n",
    "for line in range(len(df)):\n",
    "    working_list.append(df.title.values[line])\n",
    "    if len(working_list) > 59:\n",
    "        print(str(line))\n",
    "        for l in indicoio.political(working_list):\n",
    "            indico_titleLean.append(l)\n",
    "            working_list = []\n",
    "print(str(line))\n",
    "for l in indicoio.political(working_list):\n",
    "    indico_titleLean.append(l)\n",
    "    working_list = []"
   ]
  },
  {
   "cell_type": "code",
   "execution_count": 134,
   "metadata": {},
   "outputs": [],
   "source": [
    "conservativeLean = []\n",
    "greenLean = []\n",
    "liberalLean= []\n",
    "libertarianLean = []\n",
    "for line in indico_titleLean:\n",
    "#     print(line)\n",
    "    if type(line) == dict:\n",
    "        conservativeLean.append(line['Conservative'])\n",
    "        greenLean.append(line['Green'])\n",
    "        liberalLean.append(line['Liberal'])\n",
    "        libertarianLean.append(line['Libertarian'])\n",
    "    else:\n",
    "        conservativeLean.append(0)\n",
    "        greenLean.append(0)\n",
    "        liberalLean.append(0)\n",
    "        libertarianLean.append(0)\n",
    "\n",
    "df['indico_TitleConservativeLean'] = conservativeLean\n",
    "df['indico_TitleGreenLean'] = greenLean\n",
    "df['indico_TitleLiberalLean'] = liberalLean\n",
    "df['indico_TitleLibertarianLean'] = libertarianLean"
   ]
  },
  {
   "cell_type": "code",
   "execution_count": 143,
   "metadata": {},
   "outputs": [],
   "source": [
    "# Get the lean of every body\n",
    "\n",
    "indico_bodyLean = []\n",
    "working_list = []\n",
    "for line in range(len(df)):\n",
    "    working_list.append(df.body.values[line])\n",
    "    if len(working_list) > 59:\n",
    "        print(str(line))\n",
    "        for l in indicoio.political(working_list):\n",
    "            indico_bodyLean.append(l)\n",
    "            working_list = []\n",
    "print(str(line))\n",
    "for l in indicoio.political(working_list):\n",
    "    indico_bodyLean.append(l)\n",
    "    working_list = []"
   ]
  },
  {
   "cell_type": "code",
   "execution_count": 136,
   "metadata": {},
   "outputs": [],
   "source": [
    "conservativeLean = []\n",
    "greenLean = []\n",
    "liberalLean= []\n",
    "libertarianLean = []\n",
    "for line in indico_bodyLean:\n",
    "#     print(line)\n",
    "    if type(line) == dict:\n",
    "        conservativeLean.append(line['Conservative'])\n",
    "        greenLean.append(line['Green'])\n",
    "        liberalLean.append(line['Liberal'])\n",
    "        libertarianLean.append(line['Libertarian'])\n",
    "    else:\n",
    "        conservativeLean.append(0)\n",
    "        greenLean.append(0)\n",
    "        liberalLean.append(0)\n",
    "        libertarianLean.append(0)\n",
    "\n",
    "df['indico_BodyConservativeLean'] = conservativeLean\n",
    "df['indico_BodyGreenLean'] = greenLean\n",
    "df['indico_BodyLiberalLean'] = liberalLean\n",
    "df['indico_BodyLibertarianLean'] = libertarianLean"
   ]
  },
  {
   "cell_type": "code",
   "execution_count": 146,
   "metadata": {},
   "outputs": [],
   "source": [
    "df.to_csv(\"indico_backup2.csv\")"
   ]
  },
  {
   "cell_type": "markdown",
   "metadata": {},
   "source": [
    "## Indico Emotion"
   ]
  },
  {
   "cell_type": "code",
   "execution_count": 259,
   "metadata": {},
   "outputs": [],
   "source": [
    "# Get the emotion of every title\n",
    "\n",
    "indico_titleEmotion = []\n",
    "working_list = []\n",
    "for line in range(len(df)):\n",
    "    working_list.append(df.title.values[line])\n",
    "    if len(working_list) > 59:\n",
    "        print(str(line))\n",
    "        for l in indicoio.emotion(working_list):\n",
    "            indico_titleEmotion.append(l)\n",
    "            working_list = []\n",
    "print(str(line))\n",
    "for l in indicoio.emotion(working_list):\n",
    "    indico_titleEmotion.append(l)\n",
    "    working_list = []"
   ]
  },
  {
   "cell_type": "code",
   "execution_count": 155,
   "metadata": {},
   "outputs": [],
   "source": [
    "anger = []\n",
    "joy = []\n",
    "fear = []\n",
    "sadness = []\n",
    "surprise = []\n",
    "for line in indico_titleEmotion:\n",
    "#     print(line)\n",
    "    if type(line) == dict:\n",
    "        anger.append(line['anger'])\n",
    "        joy.append(line['joy'])\n",
    "        sadness.append(line['sadness'])\n",
    "        fear.append(line['fear'])\n",
    "        surprise.append(line['surprise'])\n",
    "    else:\n",
    "        anger.append(0)\n",
    "        joy.append(0)\n",
    "        sadness.append(0)\n",
    "        fear.append(0)\n",
    "        surprise.append(0)\n",
    "\n",
    "df[\"indico_TitleAnger\"] = anger\n",
    "df[\"indico_TitleJoy\"] = joy\n",
    "df[\"indico_TitleFear\"] = fear\n",
    "df[\"indico_TitleSadness\"] = sadness\n",
    "df[\"indico_TitleSurprise\"] = surprise"
   ]
  },
  {
   "cell_type": "code",
   "execution_count": 202,
   "metadata": {},
   "outputs": [],
   "source": [
    "# Get the emotion of every body\n",
    "\n",
    "indico_bodyEmotion = []\n",
    "working_list = []\n",
    "for line in range(len(df)):\n",
    "    working_list.append(df.body.values[line])\n",
    "    if len(working_list) > 59:\n",
    "        print(str(line))\n",
    "        for l in indicoio.emotion(working_list):\n",
    "            indico_bodyEmotion.append(l)\n",
    "            working_list = []\n",
    "print(str(line))\n",
    "for l in indicoio.emotion(working_list):\n",
    "    indico_bodyEmotion.append(l)\n",
    "    working_list = []"
   ]
  },
  {
   "cell_type": "code",
   "execution_count": 158,
   "metadata": {},
   "outputs": [],
   "source": [
    "anger = []\n",
    "joy = []\n",
    "fear = []\n",
    "sadness = []\n",
    "surprise = []\n",
    "for line in indico_bodyEmotion:\n",
    "#     print(line)\n",
    "    if type(line) == dict:\n",
    "        anger.append(line['anger'])\n",
    "        joy.append(line['joy'])\n",
    "        sadness.append(line['sadness'])\n",
    "        fear.append(line['fear'])\n",
    "        surprise.append(line['surprise'])\n",
    "    else:\n",
    "        anger.append(0)\n",
    "        joy.append(0)\n",
    "        sadness.append(0)\n",
    "        fear.append(0)\n",
    "        surprise.append(0)\n",
    "\n",
    "df[\"indico_BodyAnger\"] = anger\n",
    "df[\"indico_BodyJoy\"] = joy\n",
    "df[\"indico_BodyFear\"] = fear\n",
    "df[\"indico_BodySadness\"] = sadness\n",
    "df[\"indico_BodySurprise\"] = surprise"
   ]
  },
  {
   "cell_type": "code",
   "execution_count": 160,
   "metadata": {},
   "outputs": [],
   "source": [
    "df.to_csv(\"indico_backup3.csv\")"
   ]
  },
  {
   "cell_type": "markdown",
   "metadata": {},
   "source": [
    "## Indico People"
   ]
  },
  {
   "cell_type": "code",
   "execution_count": 1,
   "metadata": {},
   "outputs": [],
   "source": [
    "def getPeople(inputList):\n",
    "    # eliminates duplicates and partial duplicates, prioritizing longer strings (ie full names)\n",
    "    people = set()\n",
    "    for person in inputList:\n",
    "        if person['confidence'] > .55:\n",
    "            people.add(person['text'])\n",
    "    peopleList = sorted(list(people), key=len, reverse=True)\n",
    "    people = set()\n",
    "    for person in peopleList:\n",
    "        found = False\n",
    "        for oldPerson in people:\n",
    "            if oldPerson.find(person) > -1:\n",
    "                found = True\n",
    "        if not found:\n",
    "            people.add(person)\n",
    "    return list(people)"
   ]
  },
  {
   "cell_type": "code",
   "execution_count": 208,
   "metadata": {},
   "outputs": [],
   "source": [
    "indico_People = []\n",
    "working_list = []\n",
    "for line in range(len(df)):\n",
    "    working_list.append(df.body.values[line])\n",
    "    if len(working_list) > 59:\n",
    "        print(str(line))\n",
    "        for l in indicoio.people(working_list):\n",
    "            indico_People.append(l)\n",
    "            working_list = []\n",
    "print(str(line))\n",
    "for l in indicoio.people(working_list):\n",
    "    indico_People.append(l)\n",
    "    working_list = []"
   ]
  },
  {
   "cell_type": "code",
   "execution_count": 205,
   "metadata": {},
   "outputs": [],
   "source": [
    "indico_cleanPeople = []\n",
    "for line in indico_People:\n",
    "    indico_cleanPeople.append(getPeople(line))"
   ]
  },
  {
   "cell_type": "code",
   "execution_count": 209,
   "metadata": {},
   "outputs": [],
   "source": [
    "df['indico_People'] = indico_cleanPeople\n",
    "df.to_csv(\"indico_backup4.csv\")"
   ]
  },
  {
   "cell_type": "markdown",
   "metadata": {},
   "source": [
    "## Indico Places"
   ]
  },
  {
   "cell_type": "code",
   "execution_count": 253,
   "metadata": {},
   "outputs": [],
   "source": [
    "indico_Places = []\n",
    "working_list = []\n",
    "for line in range(len(df)):\n",
    "    working_list.append(df.body.values[line])\n",
    "    if len(working_list) > 59:\n",
    "        print(str(line))\n",
    "        for l in indicoio.places(working_list):\n",
    "            indico_Places.append(l)\n",
    "            working_list = []\n",
    "print(str(line))\n",
    "for l in indicoio.places(working_list):\n",
    "    indico_Places.append(l)\n",
    "    working_list = []"
   ]
  },
  {
   "cell_type": "code",
   "execution_count": 250,
   "metadata": {},
   "outputs": [],
   "source": [
    "indico_cleanPlaces = []\n",
    "for line in indico_Places:\n",
    "    indico_cleanPlaces.append(getPeople(line))"
   ]
  },
  {
   "cell_type": "code",
   "execution_count": 252,
   "metadata": {},
   "outputs": [],
   "source": [
    "df['indico_Places'] = indico_cleanPlaces\n",
    "df.to_csv(\"indico_backup5.csv\")"
   ]
  },
  {
   "cell_type": "markdown",
   "metadata": {},
   "source": [
    "## Indico Organizations"
   ]
  },
  {
   "cell_type": "code",
   "execution_count": 255,
   "metadata": {},
   "outputs": [],
   "source": [
    "indico_Organizations = []\n",
    "working_list = []\n",
    "for line in range(len(df)):\n",
    "    working_list.append(df.body.values[line])\n",
    "    if len(working_list) > 59:\n",
    "        print(str(line))\n",
    "        for l in indicoio.organizations(working_list):\n",
    "            indico_Organizations.append(l)\n",
    "            working_list = []\n",
    "print(str(line))\n",
    "for l in indicoio.organizations(working_list):\n",
    "    indico_Organizations.append(l)\n",
    "    working_list = []"
   ]
  },
  {
   "cell_type": "code",
   "execution_count": 256,
   "metadata": {},
   "outputs": [],
   "source": [
    "indico_cleanOrganizations = []\n",
    "for line in indico_Organizations:\n",
    "    indico_cleanOrganizations.append(getPeople(line))"
   ]
  },
  {
   "cell_type": "code",
   "execution_count": 257,
   "metadata": {},
   "outputs": [],
   "source": [
    "df['indico_Organizations'] = indico_cleanOrganizations\n",
    "df.to_csv(\"indico_backup6.csv\")"
   ]
  },
  {
   "cell_type": "markdown",
   "metadata": {},
   "source": [
    "## Indico Tags/Keywords"
   ]
  },
  {
   "cell_type": "code",
   "execution_count": 43,
   "metadata": {},
   "outputs": [],
   "source": [
    "#df = pd.read_csv(\"indico_backup6.csv\")\n",
    "\n",
    "indico_textTags = []\n",
    "working_list = []\n",
    "for line in range(len(df)):\n",
    "    working_list.append(df.body.values[line])\n",
    "    if len(working_list) > 59:\n",
    "        print(str(line))\n",
    "        for l in indicoio.text_tags(working_list):\n",
    "            indico_textTags.append(l)\n",
    "            working_list = []\n",
    "print(str(line))\n",
    "for l in indicoio.text_tags(working_list):\n",
    "    indico_textTags.append(l)\n",
    "    working_list = []"
   ]
  },
  {
   "cell_type": "code",
   "execution_count": 19,
   "metadata": {},
   "outputs": [],
   "source": [
    "def getTags(inputList):\n",
    "    # eliminates duplicates and partial duplicates, prioritizing longer strings (ie full names)\n",
    "    output = set()\n",
    "    for tag in inputList.keys():\n",
    "        if inputList[tag] > .1:\n",
    "            output.add(tag)\n",
    "    tagList = sorted(list(output), key=len, reverse=True)\n",
    "    output = set()\n",
    "    for tag in tagList:\n",
    "        found = False\n",
    "        for oldTag in output:\n",
    "            if oldTag.find(tag) > -1:\n",
    "                found = True\n",
    "        if not found:\n",
    "            output.add(tag)\n",
    "    return list(output)\n",
    "\n",
    "indico_cleanTextTags = []\n",
    "for line in indico_textTags:\n",
    "    indico_cleanTextTags.append(getTags(line))"
   ]
  },
  {
   "cell_type": "code",
   "execution_count": 27,
   "metadata": {},
   "outputs": [],
   "source": [
    "df['indico_textTags'] = indico_cleanTextTags\n",
    "df.to_csv(\"indico_backup7.csv\")"
   ]
  },
  {
   "cell_type": "code",
   "execution_count": 44,
   "metadata": {},
   "outputs": [],
   "source": [
    "# df = pd.read_csv(\"indico_backup7.csv\")\n",
    "\n",
    "indico_keywords = []\n",
    "working_list = []\n",
    "for line in range(len(df)):\n",
    "    working_list.append(df.body.values[line])\n",
    "    if len(working_list) > 59:\n",
    "        print(str(line))\n",
    "        for l in indicoio.keywords(working_list, version=4):\n",
    "            indico_keywords.append(l)\n",
    "            working_list = []\n",
    "print(str(line))\n",
    "for l in indicoio.keywords(working_list, version=4):\n",
    "    indico_keywords.append(l)\n",
    "    working_list = []"
   ]
  },
  {
   "cell_type": "code",
   "execution_count": 28,
   "metadata": {},
   "outputs": [],
   "source": [
    "indico_cleanKeywords = []\n",
    "for line in indico_keywords:\n",
    "    indico_cleanKeywords.append(getTags(line))"
   ]
  },
  {
   "cell_type": "code",
   "execution_count": 31,
   "metadata": {},
   "outputs": [],
   "source": [
    "df['indico_keywords'] = indico_cleanKeywords\n",
    "df.to_csv(\"indico_backup8.csv\")"
   ]
  },
  {
   "cell_type": "markdown",
   "metadata": {},
   "source": [
    "## Indico HQ Sentiment"
   ]
  },
  {
   "cell_type": "code",
   "execution_count": 45,
   "metadata": {},
   "outputs": [],
   "source": [
    "# Get the sentiment of every body\n",
    "\n",
    "indico_hqSentiment = []\n",
    "working_list = []\n",
    "for line in range(len(df)):\n",
    "    working_list.append(df.title.values[line] + df.body.values[line])\n",
    "    if len(working_list) > 99:\n",
    "        print(str(line))\n",
    "        for l in indicoio.sentiment_hq(working_list):\n",
    "            indico_hqSentiment.append(l)\n",
    "            working_list = []\n",
    "print(str(line))\n",
    "for l in indicoio.sentiment_hq(working_list):\n",
    "    indico_hqSentiment.append(l)\n",
    "    working_list = []"
   ]
  },
  {
   "cell_type": "code",
   "execution_count": 35,
   "metadata": {},
   "outputs": [],
   "source": [
    "# add to dataframe\n",
    "df['indico_hqSentiment'] = indico_hqSentiment\n",
    "df['indico_hqSentiment'] = df['indico_hqSentiment'].astype(float)"
   ]
  },
  {
   "cell_type": "markdown",
   "metadata": {},
   "source": [
    "## Save DataFrame to File"
   ]
  },
  {
   "cell_type": "code",
   "execution_count": 42,
   "metadata": {},
   "outputs": [],
   "source": [
    "df.to_pickle(\"finalDF.pickle\")"
   ]
  }
 ],
 "metadata": {
  "kernelspec": {
   "display_name": "Python [conda env:anaconda3]",
   "language": "python",
   "name": "conda-env-anaconda3-py"
  },
  "language_info": {
   "codemirror_mode": {
    "name": "ipython",
    "version": 3
   },
   "file_extension": ".py",
   "mimetype": "text/x-python",
   "name": "python",
   "nbconvert_exporter": "python",
   "pygments_lexer": "ipython3",
   "version": "3.6.3"
  }
 },
 "nbformat": 4,
 "nbformat_minor": 2
}
