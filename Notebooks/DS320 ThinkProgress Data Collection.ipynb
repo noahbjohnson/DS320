{
 "cells": [
  {
   "cell_type": "markdown",
   "metadata": {},
   "source": [
    "# DS320 Final Project\n",
    "## Think Progress Data Collection Notebook\n",
    "### Noah B Johnson"
   ]
  },
  {
   "cell_type": "markdown",
   "metadata": {},
   "source": [
    "## Import Modules"
   ]
  },
  {
   "cell_type": "code",
   "execution_count": 64,
   "metadata": {},
   "outputs": [],
   "source": [
    "import requests\n",
    "from bs4 import BeautifulSoup\n",
    "import pandas as pd\n",
    "import numpy as np\n",
    "import urllib3\n",
    "import random\n",
    "import time\n",
    "import json\n",
    "from tinydb import TinyDB, Query\n",
    "import feedparser"
   ]
  },
  {
   "cell_type": "markdown",
   "metadata": {},
   "source": [
    "## Configure Environment"
   ]
  },
  {
   "cell_type": "code",
   "execution_count": 66,
   "metadata": {},
   "outputs": [],
   "source": [
    "# feed url for scraping\n",
    "baseUrl = \"https://thinkprogress.org/feed\"\n",
    "# setup json file for tinydb\n",
    "db = TinyDB('db.json')"
   ]
  },
  {
   "cell_type": "markdown",
   "metadata": {},
   "source": [
    "## Aggregate Historical RSS Feeds"
   ]
  },
  {
   "cell_type": "code",
   "execution_count": 92,
   "metadata": {},
   "outputs": [],
   "source": [
    "def aggregate(daysBack):\n",
    "    # daysBack = How many days of data to collect\n",
    "    \n",
    "    # The number of archive pages (days) scraped\n",
    "    pages = 0\n",
    "    \n",
    "    # Set the iterative variables for the url\n",
    "    day = 1\n",
    "    month = 6\n",
    "    year = 2016\n",
    "    \n",
    "    # query object for checking for duplicates\n",
    "    q = Query()\n",
    "    \n",
    "    # Go through the archive pages and add articles to the db\n",
    "    while pages < daysBack:\n",
    "        # Create archive url based on date iterators\n",
    "        if day < 10:\n",
    "            dayPrint = \"0\" + str(day)\n",
    "        else:\n",
    "            dayPrint = str(day)\n",
    "        if month < 10:\n",
    "            monthPrint = \"0\" + str(month)\n",
    "        else:\n",
    "            monthPrint = str(month)\n",
    "        feedLink = \"https://web.archive.org/web/{}{}{}/{}\".format(year,monthPrint,dayPrint,baseUrl)\n",
    "        # Get the feed object entries\n",
    "        entries = feedparser.parse(feedLink)['entries']\n",
    "        if len(entries) > 0:\n",
    "            print(entries[0]['published'])\n",
    "            for entry in entries:\n",
    "                if not db.contains(q.url == entry['link']):\n",
    "#                     print(entry)\n",
    "                    db.insert({\n",
    "                        'url': entry['link'],\n",
    "                        'time': entry['published'],\n",
    "                        'author': entry['author'],\n",
    "                        'title': entry['title'],\n",
    "                        'body': BeautifulSoup(entry['summary_detail']['value'], 'html.parser').get_text(),\n",
    "                        'site': 'thinkprogress'\n",
    "                    })\n",
    "        \n",
    "        # Take the date down by one\n",
    "        day = day - 1\n",
    "        if day == 0:\n",
    "            month = month - 1\n",
    "            day = 31\n",
    "        if month == 0:\n",
    "            year = year - 1\n",
    "            month = 12\n",
    "            \n",
    "        # Update the pages scraped value\n",
    "        pages +=1"
   ]
  },
  {
   "cell_type": "code",
   "execution_count": 97,
   "metadata": {},
   "outputs": [],
   "source": [
    "# Run the aggregation function\n",
    "# Loads the feed entries into the database\n",
    "# urlList = aggregate(1100)"
   ]
  }
 ],
 "metadata": {
  "kernelspec": {
   "display_name": "Python [default]",
   "language": "python",
   "name": "python3"
  },
  "language_info": {
   "codemirror_mode": {
    "name": "ipython",
    "version": 3
   },
   "file_extension": ".py",
   "mimetype": "text/x-python",
   "name": "python",
   "nbconvert_exporter": "python",
   "pygments_lexer": "ipython3",
   "version": "3.6.3"
  }
 },
 "nbformat": 4,
 "nbformat_minor": 2
}
